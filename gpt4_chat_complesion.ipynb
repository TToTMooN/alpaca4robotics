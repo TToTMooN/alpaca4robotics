{
 "cells": [
  {
   "cell_type": "code",
   "execution_count": 12,
   "metadata": {},
   "outputs": [],
   "source": [
    "import openai\n",
    "import os\n",
    "openai.api_key = os.getenv(\"OPENAI_API_KEY\")\n",
    "%load_ext autoreload\n",
    "%autoreload 2"
   ]
  },
  {
   "cell_type": "code",
   "execution_count": 6,
   "metadata": {},
   "outputs": [],
   "source": [
    "from generate_instruction import *"
   ]
  },
  {
   "cell_type": "code",
   "execution_count": 8,
   "metadata": {},
   "outputs": [
    {
     "name": "stdout",
     "output_type": "stream",
     "text": [
      "Loaded 175 human-written seed instructions\n"
     ]
    }
   ],
   "source": [
    "seed_tasks_path = \"seed_tasks.jsonl\"\n",
    "seed_tasks = [json.loads(l) for l in open(seed_tasks_path, \"r\")]\n",
    "seed_instruction_data = [\n",
    "        {\"instruction\": t[\"instruction\"], \"input\": t[\"instances\"][0][\"input\"], \"output\": t[\"instances\"][0][\"output\"]}\n",
    "        for t in seed_tasks\n",
    "    ]\n",
    "print(f\"Loaded {len(seed_instruction_data)} human-written seed instructions\")"
   ]
  },
  {
   "cell_type": "code",
   "execution_count": 15,
   "metadata": {},
   "outputs": [],
   "source": [
    "prompt_manipulation=[\n",
    "    {\"role\": \"system\", \"content\": \n",
    "     '''We have a manipulator and we want you to help plan how it should move to perform tasks using the following template:\n",
    "        [start of plan]\n",
    "        [optional] To perform this task, the manipulator's gripper should move close to object1={CHOICE: cube, apple, box_left_side, box_right_side, box_center}.\n",
    "        [optional] object1 should be close to object2={CHOICE: cube, apple, box_left_side, box_right_side, box_center}.\n",
    "        [optional] object1 needs to be rotated by {NUM: 0.0} degrees along x axis.\n",
    "        [optional] object1 needs to be rotated by {NUM: 0.0} degrees along z axis.\n",
    "        [optional] object2 needs to be rotated by {NUM: 0.0} degrees along x axis.\n",
    "        [optional] object2 needs to be rotated by {NUM: 0.0} degrees along z axis.\n",
    "        [optional] object1 needs to be lifted to a height of {NUM: 0.0}m at the end.\n",
    "        [optional] object1 needs to be moved by {NUM: 0.0}m in x axis at the end.\n",
    "        [optional] object1 needs to be moved by {NUM: 0.0}m in y axis at the end.\n",
    "        [optional] object2 needs to be lifted to a height of {NUM: 0.0}m at the end.\n",
    "        [optional] object2 needs to be moved by {NUM: 0.0}m in x axis at the end.\n",
    "        [optional] object2 needs to be moved by {NUM: 0.0}m in y axis at the end.\n",
    "        [optional] This {CHOICE: is, is not} the first plan for a new task.\n",
    "        [end of plan]\n",
    "\n",
    "        Rules:\n",
    "        1. If you see phrases like [NUM: default_value], replace the entire phrase with a numerical value.\n",
    "        2. If you see phrases like {CHOICE: choice1, choice2, ...}, it means you should replace the entire phrase with one of the choices listed.\n",
    "        3. If you see [optional], it means you only add that line if necessary for the task, otherwise remove that line.\n",
    "        4. Do not invent new objects not listed here.\n",
    "        5. I will tell you a behavior/skill/task that I want the manipulator to perform and you will provide the full plan, even if you may only need to change a few lines. Always start the description with [start of plan] and end it with [end of plan].\n",
    "        6. You can assume that the robot is capable of doing anything, even for the most challenging task.\n",
    "        7. Your plan should be as close to the provided template as possible. Do not include additional details.\n",
    "        8. The robot is facing towards positive x-axis, positive y-axis is to the left of the robot, positive z-axis is upward.\n",
    "        9. Objects are free to move around unless a command is given.'''\n",
    "    },\n",
    "    {\"role\": \"user\", \"content\": \n",
    "     '''We have a plan of a robot arm with gripper to manipulate objects and we want you to turn that into the corresponding reward specifying program with following functions:\n",
    "\n",
    "        ```\n",
    "        def set_l2_distance_reward(name_obj_A, name_obj_B)\n",
    "        ```\n",
    "        where name_obj_A and name_obj_B are selected from ['gripper', 'cube', 'apple', 'box_left_side', 'box_right_side', 'box_center'].\n",
    "        This term sets a reward for minimizing l2_distance between name_obj_A and name_obj_B so they get closer to each other.\n",
    "\n",
    "        ```\n",
    "        def set_obj_orientation_reward(name_obj, x_axis_rotation_radians, z_axis_rotation_radians)\n",
    "        ```\n",
    "        this term encourages the orientation of name_obj to be close to the target.\n",
    "\n",
    "        ```\n",
    "        def execute_plan(duration=2)\n",
    "        ```\n",
    "        This function sends the parameters to the robot and execute the plan for `duration` seconds, default to be 2\n",
    "\n",
    "        ```\n",
    "        def set_obj_position_reward(name_obj, x_offset, y_offset, z_height)\n",
    "        ```\n",
    "        this term encourages the position of name_obj to be close to the specified target position.\n",
    "\n",
    "        ```\n",
    "        def reset_reward()\n",
    "        ```\n",
    "        This function resets the reward to default values.\n",
    "\n",
    "        This is the first plan for a new task.\n",
    "\n",
    "        Example answer code:\n",
    "        ```\n",
    "        import numpy as np\n",
    "\n",
    "        reset_reward() # This is a new task so reset reward; otherwise we don't need it\n",
    "        set_l2_distance_reward(\"gripper\", \"apple\")\n",
    "        set_l2_distance_reward(\"apple\", \"box_center\")\n",
    "        set_obj_orientation_reward(\"cube\", np.deg2rad(30), 0)\n",
    "        set_obj_position_reward(\"bowl\", 0, 0, 1.0)\n",
    "\n",
    "        execute_plan(4)\n",
    "        ```\n",
    "\n",
    "        Remember:\n",
    "        1. Always format the code in code blocks. In your response execute_plan should be called exactly once at the end.\n",
    "        2. Do not invent new functions or classes. The only allowed functions you can call are the ones listed above. Do not leave unimplemented code blocks in your response.\n",
    "        3. The only allowed library is numpy. Do not import or use any other library.\n",
    "        4. If you are not sure what value to use, just use your best judge. Do not use None for anything.\n",
    "        5. Do not calculate the position or direction of any object (except for the ones provided above). Just use a number directly based on your best guess.\n",
    "        6. You do not need to make the robot do extra things not mentioned in the plan such as stopping the robot.'''\n",
    "     },\n",
    "]"
   ]
  },
  {
   "cell_type": "code",
   "execution_count": 18,
   "metadata": {},
   "outputs": [
    {
     "data": {
      "text/plain": [
       "<OpenAIObject chat.completion id=chatcmpl-7WA5gWvZ7x4jL74ZXeMQhnZyaHuUv at 0x7fefd6b41530> JSON: {\n",
       "  \"id\": \"chatcmpl-7WA5gWvZ7x4jL74ZXeMQhnZyaHuUv\",\n",
       "  \"object\": \"chat.completion\",\n",
       "  \"created\": 1687899640,\n",
       "  \"model\": \"gpt-3.5-turbo-0301\",\n",
       "  \"choices\": [\n",
       "    {\n",
       "      \"index\": 0,\n",
       "      \"message\": {\n",
       "        \"role\": \"assistant\",\n",
       "        \"content\": \"[start of plan]\\nTo perform this task, the manipulator's gripper should move close to object1=\\\"cube\\\".\\nobject1 should be close to object2=\\\"apple\\\".\\nobject1 needs to be rotated by 0.0 degrees along x axis.\\nobject1 needs to be rotated by 0.0 degrees along z axis.\\nobject2 needs to be rotated by 0.0 degrees along x axis.\\nobject2 needs to be rotated by 0.0 degrees along z axis.\\nobject1 needs to be lifted to a height of 0.3m at the end.\\nobject1 needs to be moved by 0.2m in x axis at the end.\\nobject1 needs to be moved by -0.1m in y axis at the end.\\nobject2 needs to be lifted to a height of 0.5m at the end.\\nobject2 needs to be moved by 0.1m in x axis at the end.\\nobject2 needs to be moved by 0.1m in y axis at the end.\\nThis is the first plan for a new task.\\n[end of plan]\\n\\nimport numpy as np\\n\\nreset_reward()\\nset_l2_distance_reward(\\\"gripper\\\", \\\"cube\\\")\\nset_l2_distance_reward(\\\"apple\\\", \\\"cube\\\")\\nset_obj_orientation_reward(\\\"cube\\\", np.deg2rad(0), 0)\\nset_obj_position_reward(\\\"cube\\\", 0.2, -0.1, 0.3)\\nset_obj_position_reward(\\\"apple\\\", 0.1, 0.1, 0.5)\\n\\nexecute_plan(4)\"\n",
       "      },\n",
       "      \"finish_reason\": \"stop\"\n",
       "    }\n",
       "  ],\n",
       "  \"usage\": {\n",
       "    \"prompt_tokens\": 1196,\n",
       "    \"completion_tokens\": 324,\n",
       "    \"total_tokens\": 1520\n",
       "  }\n",
       "}"
      ]
     },
     "execution_count": 18,
     "metadata": {},
     "output_type": "execute_result"
    }
   ],
   "source": [
    "output_dir = \"gpt4_chat_completion\"\n",
    "num_instructions_to_generate = 1\n",
    "num_prompt_instructions = 1\n",
    "request_batch_size = 1\n",
    "temperature = 1.0\n",
    "top_p = 1.0\n",
    "num_cpus = 8\n",
    "model_name = \"gpt-3.5-turbo\"\n",
    "response = openai.ChatCompletion.create(\n",
    "    model=model_name,\n",
    "    messages=prompt_manipulation,\n",
    "    temperature=temperature,\n",
    "    top_p=top_p,\n",
    "    max_tokens=1024,\n",
    ")\n",
    "response"
   ]
  },
  {
   "cell_type": "code",
   "execution_count": 19,
   "metadata": {},
   "outputs": [
    {
     "data": {
      "text/plain": [
       "'[start of plan]\\nTo perform this task, the manipulator\\'s gripper should move close to object1=\"cube\".\\nobject1 should be close to object2=\"apple\".\\nobject1 needs to be rotated by 0.0 degrees along x axis.\\nobject1 needs to be rotated by 0.0 degrees along z axis.\\nobject2 needs to be rotated by 0.0 degrees along x axis.\\nobject2 needs to be rotated by 0.0 degrees along z axis.\\nobject1 needs to be lifted to a height of 0.3m at the end.\\nobject1 needs to be moved by 0.2m in x axis at the end.\\nobject1 needs to be moved by -0.1m in y axis at the end.\\nobject2 needs to be lifted to a height of 0.5m at the end.\\nobject2 needs to be moved by 0.1m in x axis at the end.\\nobject2 needs to be moved by 0.1m in y axis at the end.\\nThis is the first plan for a new task.\\n[end of plan]\\n\\nimport numpy as np\\n\\nreset_reward()\\nset_l2_distance_reward(\"gripper\", \"cube\")\\nset_l2_distance_reward(\"apple\", \"cube\")\\nset_obj_orientation_reward(\"cube\", np.deg2rad(0), 0)\\nset_obj_position_reward(\"cube\", 0.2, -0.1, 0.3)\\nset_obj_position_reward(\"apple\", 0.1, 0.1, 0.5)\\n\\nexecute_plan(4)'"
      ]
     },
     "execution_count": 19,
     "metadata": {},
     "output_type": "execute_result"
    }
   ],
   "source": [
    "response['choices'][0]['message']['content']\n"
   ]
  },
  {
   "cell_type": "code",
   "execution_count": 17,
   "metadata": {},
   "outputs": [
    {
     "name": "stderr",
     "output_type": "stream",
     "text": [
      "  0%|          | 0/1 [00:33<?, ?it/s]\n",
      "WARNING:root:OpenAIError: [{'role': 'system', 'content': \"We have a manipulator and we want you to help plan how it should move to perform tasks using the following template:\\n        [start of plan]\\n        [optional] To perform this task, the manipulator's gripper should move close to object1={CHOICE: cube, apple, box_left_side, box_right_side, box_center}.\\n        [optional] object1 should be close to object2={CHOICE: cube, apple, box_left_side, box_right_side, box_center}.\\n        [optional] object1 needs to be rotated by {NUM: 0.0} degrees along x axis.\\n        [optional] object1 needs to be rotated by {NUM: 0.0} degrees along z axis.\\n        [optional] object2 needs to be rotated by {NUM: 0.0} degrees along x axis.\\n        [optional] object2 needs to be rotated by {NUM: 0.0} degrees along z axis.\\n        [optional] object1 needs to be lifted to a height of {NUM: 0.0}m at the end.\\n        [optional] object1 needs to be moved by {NUM: 0.0}m in x axis at the end.\\n        [optional] object1 needs to be moved by {NUM: 0.0}m in y axis at the end.\\n        [optional] object2 needs to be lifted to a height of {NUM: 0.0}m at the end.\\n        [optional] object2 needs to be moved by {NUM: 0.0}m in x axis at the end.\\n        [optional] object2 needs to be moved by {NUM: 0.0}m in y axis at the end.\\n        [optional] This {CHOICE: is, is not} the first plan for a new task.\\n        [end of plan]\\n\\n        Rules:\\n        1. If you see phrases like [NUM: default_value], replace the entire phrase with a numerical value.\\n        2. If you see phrases like {CHOICE: choice1, choice2, ...}, it means you should replace the entire phrase with one of the choices listed.\\n        3. If you see [optional], it means you only add that line if necessary for the task, otherwise remove that line.\\n        4. Do not invent new objects not listed here.\\n        5. I will tell you a behavior/skill/task that I want the manipulator to perform and you will provide the full plan, even if you may only need to change a few lines. Always start the description with [start of plan] and end it with [end of plan].\\n        6. You can assume that the robot is capable of doing anything, even for the most challenging task.\\n        7. Your plan should be as close to the provided template as possible. Do not include additional details.\\n        8. The robot is facing towards positive x-axis, positive y-axis is to the left of the robot, positive z-axis is upward.\\n        9. Objects are free to move around unless a command is given.\"}, {'role': 'user', 'content': 'We have a plan of a robot arm with gripper to manipulate objects and we want you to turn that into the corresponding reward specifying program with following functions:\\n\\n        ```\\n        def set_l2_distance_reward(name_obj_A, name_obj_B)\\n        ```\\n        where name_obj_A and name_obj_B are selected from [\\'gripper\\', \\'cube\\', \\'apple\\', \\'box_left_side\\', \\'box_right_side\\', \\'box_center\\'].\\n        This term sets a reward for minimizing l2_distance between name_obj_A and name_obj_B so they get closer to each other.\\n\\n        ```\\n        def set_obj_orientation_reward(name_obj, x_axis_rotation_radians, z_axis_rotation_radians)\\n        ```\\n        this term encourages the orientation of name_obj to be close to the target.\\n\\n        ```\\n        def execute_plan(duration=2)\\n        ```\\n        This function sends the parameters to the robot and execute the plan for `duration` seconds, default to be 2\\n\\n        ```\\n        def set_obj_position_reward(name_obj, x_offset, y_offset, z_height)\\n        ```\\n        this term encourages the position of name_obj to be close to the specified target position.\\n\\n        ```\\n        def reset_reward()\\n        ```\\n        This function resets the reward to default values.\\n\\n        This is the first plan for a new task.\\n\\n        Example answer code:\\n        ```\\n        import numpy as np\\n\\n        reset_reward() # This is a new task so reset reward; otherwise we don\\'t need it\\n        set_l2_distance_reward(\"gripper\", \"apple\")\\n        set_l2_distance_reward(\"apple\", \"box_center\")\\n        set_obj_orientation_reward(\"cube\", np.deg2rad(30), 0)\\n        set_obj_position_reward(\"bowl\", 0, 0, 1.0)\\n\\n        execute_plan(4)\\n        ```\\n\\n        Remember:\\n        1. Always format the code in code blocks. In your response execute_plan should be called exactly once at the end.\\n        2. Do not invent new functions or classes. The only allowed functions you can call are the ones listed above. Do not leave unimplemented code blocks in your response.\\n        3. The only allowed library is numpy. Do not import or use any other library.\\n        4. If you are not sure what value to use, just use your best judge. Do not use None for anything.\\n        5. Do not calculate the position or direction of any object (except for the ones provided above). Just use a number directly based on your best guess.\\n        6. You do not need to make the robot do extra things not mentioned in the plan such as stopping the robot.'}] is not of type 'object' - 'messages.0'.\n",
      "WARNING:root:Hit request rate limit; retrying...\n",
      "WARNING:root:OpenAIError: [{'role': 'system', 'content': \"We have a manipulator and we want you to help plan how it should move to perform tasks using the following template:\\n        [start of plan]\\n        [optional] To perform this task, the manipulator's gripper should move close to object1={CHOICE: cube, apple, box_left_side, box_right_side, box_center}.\\n        [optional] object1 should be close to object2={CHOICE: cube, apple, box_left_side, box_right_side, box_center}.\\n        [optional] object1 needs to be rotated by {NUM: 0.0} degrees along x axis.\\n        [optional] object1 needs to be rotated by {NUM: 0.0} degrees along z axis.\\n        [optional] object2 needs to be rotated by {NUM: 0.0} degrees along x axis.\\n        [optional] object2 needs to be rotated by {NUM: 0.0} degrees along z axis.\\n        [optional] object1 needs to be lifted to a height of {NUM: 0.0}m at the end.\\n        [optional] object1 needs to be moved by {NUM: 0.0}m in x axis at the end.\\n        [optional] object1 needs to be moved by {NUM: 0.0}m in y axis at the end.\\n        [optional] object2 needs to be lifted to a height of {NUM: 0.0}m at the end.\\n        [optional] object2 needs to be moved by {NUM: 0.0}m in x axis at the end.\\n        [optional] object2 needs to be moved by {NUM: 0.0}m in y axis at the end.\\n        [optional] This {CHOICE: is, is not} the first plan for a new task.\\n        [end of plan]\\n\\n        Rules:\\n        1. If you see phrases like [NUM: default_value], replace the entire phrase with a numerical value.\\n        2. If you see phrases like {CHOICE: choice1, choice2, ...}, it means you should replace the entire phrase with one of the choices listed.\\n        3. If you see [optional], it means you only add that line if necessary for the task, otherwise remove that line.\\n        4. Do not invent new objects not listed here.\\n        5. I will tell you a behavior/skill/task that I want the manipulator to perform and you will provide the full plan, even if you may only need to change a few lines. Always start the description with [start of plan] and end it with [end of plan].\\n        6. You can assume that the robot is capable of doing anything, even for the most challenging task.\\n        7. Your plan should be as close to the provided template as possible. Do not include additional details.\\n        8. The robot is facing towards positive x-axis, positive y-axis is to the left of the robot, positive z-axis is upward.\\n        9. Objects are free to move around unless a command is given.\"}, {'role': 'user', 'content': 'We have a plan of a robot arm with gripper to manipulate objects and we want you to turn that into the corresponding reward specifying program with following functions:\\n\\n        ```\\n        def set_l2_distance_reward(name_obj_A, name_obj_B)\\n        ```\\n        where name_obj_A and name_obj_B are selected from [\\'gripper\\', \\'cube\\', \\'apple\\', \\'box_left_side\\', \\'box_right_side\\', \\'box_center\\'].\\n        This term sets a reward for minimizing l2_distance between name_obj_A and name_obj_B so they get closer to each other.\\n\\n        ```\\n        def set_obj_orientation_reward(name_obj, x_axis_rotation_radians, z_axis_rotation_radians)\\n        ```\\n        this term encourages the orientation of name_obj to be close to the target.\\n\\n        ```\\n        def execute_plan(duration=2)\\n        ```\\n        This function sends the parameters to the robot and execute the plan for `duration` seconds, default to be 2\\n\\n        ```\\n        def set_obj_position_reward(name_obj, x_offset, y_offset, z_height)\\n        ```\\n        this term encourages the position of name_obj to be close to the specified target position.\\n\\n        ```\\n        def reset_reward()\\n        ```\\n        This function resets the reward to default values.\\n\\n        This is the first plan for a new task.\\n\\n        Example answer code:\\n        ```\\n        import numpy as np\\n\\n        reset_reward() # This is a new task so reset reward; otherwise we don\\'t need it\\n        set_l2_distance_reward(\"gripper\", \"apple\")\\n        set_l2_distance_reward(\"apple\", \"box_center\")\\n        set_obj_orientation_reward(\"cube\", np.deg2rad(30), 0)\\n        set_obj_position_reward(\"bowl\", 0, 0, 1.0)\\n\\n        execute_plan(4)\\n        ```\\n\\n        Remember:\\n        1. Always format the code in code blocks. In your response execute_plan should be called exactly once at the end.\\n        2. Do not invent new functions or classes. The only allowed functions you can call are the ones listed above. Do not leave unimplemented code blocks in your response.\\n        3. The only allowed library is numpy. Do not import or use any other library.\\n        4. If you are not sure what value to use, just use your best judge. Do not use None for anything.\\n        5. Do not calculate the position or direction of any object (except for the ones provided above). Just use a number directly based on your best guess.\\n        6. You do not need to make the robot do extra things not mentioned in the plan such as stopping the robot.'}] is not of type 'object' - 'messages.0'.\n",
      "WARNING:root:Hit request rate limit; retrying...\n",
      "WARNING:root:OpenAIError: [{'role': 'system', 'content': \"We have a manipulator and we want you to help plan how it should move to perform tasks using the following template:\\n        [start of plan]\\n        [optional] To perform this task, the manipulator's gripper should move close to object1={CHOICE: cube, apple, box_left_side, box_right_side, box_center}.\\n        [optional] object1 should be close to object2={CHOICE: cube, apple, box_left_side, box_right_side, box_center}.\\n        [optional] object1 needs to be rotated by {NUM: 0.0} degrees along x axis.\\n        [optional] object1 needs to be rotated by {NUM: 0.0} degrees along z axis.\\n        [optional] object2 needs to be rotated by {NUM: 0.0} degrees along x axis.\\n        [optional] object2 needs to be rotated by {NUM: 0.0} degrees along z axis.\\n        [optional] object1 needs to be lifted to a height of {NUM: 0.0}m at the end.\\n        [optional] object1 needs to be moved by {NUM: 0.0}m in x axis at the end.\\n        [optional] object1 needs to be moved by {NUM: 0.0}m in y axis at the end.\\n        [optional] object2 needs to be lifted to a height of {NUM: 0.0}m at the end.\\n        [optional] object2 needs to be moved by {NUM: 0.0}m in x axis at the end.\\n        [optional] object2 needs to be moved by {NUM: 0.0}m in y axis at the end.\\n        [optional] This {CHOICE: is, is not} the first plan for a new task.\\n        [end of plan]\\n\\n        Rules:\\n        1. If you see phrases like [NUM: default_value], replace the entire phrase with a numerical value.\\n        2. If you see phrases like {CHOICE: choice1, choice2, ...}, it means you should replace the entire phrase with one of the choices listed.\\n        3. If you see [optional], it means you only add that line if necessary for the task, otherwise remove that line.\\n        4. Do not invent new objects not listed here.\\n        5. I will tell you a behavior/skill/task that I want the manipulator to perform and you will provide the full plan, even if you may only need to change a few lines. Always start the description with [start of plan] and end it with [end of plan].\\n        6. You can assume that the robot is capable of doing anything, even for the most challenging task.\\n        7. Your plan should be as close to the provided template as possible. Do not include additional details.\\n        8. The robot is facing towards positive x-axis, positive y-axis is to the left of the robot, positive z-axis is upward.\\n        9. Objects are free to move around unless a command is given.\"}, {'role': 'user', 'content': 'We have a plan of a robot arm with gripper to manipulate objects and we want you to turn that into the corresponding reward specifying program with following functions:\\n\\n        ```\\n        def set_l2_distance_reward(name_obj_A, name_obj_B)\\n        ```\\n        where name_obj_A and name_obj_B are selected from [\\'gripper\\', \\'cube\\', \\'apple\\', \\'box_left_side\\', \\'box_right_side\\', \\'box_center\\'].\\n        This term sets a reward for minimizing l2_distance between name_obj_A and name_obj_B so they get closer to each other.\\n\\n        ```\\n        def set_obj_orientation_reward(name_obj, x_axis_rotation_radians, z_axis_rotation_radians)\\n        ```\\n        this term encourages the orientation of name_obj to be close to the target.\\n\\n        ```\\n        def execute_plan(duration=2)\\n        ```\\n        This function sends the parameters to the robot and execute the plan for `duration` seconds, default to be 2\\n\\n        ```\\n        def set_obj_position_reward(name_obj, x_offset, y_offset, z_height)\\n        ```\\n        this term encourages the position of name_obj to be close to the specified target position.\\n\\n        ```\\n        def reset_reward()\\n        ```\\n        This function resets the reward to default values.\\n\\n        This is the first plan for a new task.\\n\\n        Example answer code:\\n        ```\\n        import numpy as np\\n\\n        reset_reward() # This is a new task so reset reward; otherwise we don\\'t need it\\n        set_l2_distance_reward(\"gripper\", \"apple\")\\n        set_l2_distance_reward(\"apple\", \"box_center\")\\n        set_obj_orientation_reward(\"cube\", np.deg2rad(30), 0)\\n        set_obj_position_reward(\"bowl\", 0, 0, 1.0)\\n\\n        execute_plan(4)\\n        ```\\n\\n        Remember:\\n        1. Always format the code in code blocks. In your response execute_plan should be called exactly once at the end.\\n        2. Do not invent new functions or classes. The only allowed functions you can call are the ones listed above. Do not leave unimplemented code blocks in your response.\\n        3. The only allowed library is numpy. Do not import or use any other library.\\n        4. If you are not sure what value to use, just use your best judge. Do not use None for anything.\\n        5. Do not calculate the position or direction of any object (except for the ones provided above). Just use a number directly based on your best guess.\\n        6. You do not need to make the robot do extra things not mentioned in the plan such as stopping the robot.'}] is not of type 'object' - 'messages.0'.\n",
      "WARNING:root:Hit request rate limit; retrying...\n",
      "WARNING:root:OpenAIError: [{'role': 'system', 'content': \"We have a manipulator and we want you to help plan how it should move to perform tasks using the following template:\\n        [start of plan]\\n        [optional] To perform this task, the manipulator's gripper should move close to object1={CHOICE: cube, apple, box_left_side, box_right_side, box_center}.\\n        [optional] object1 should be close to object2={CHOICE: cube, apple, box_left_side, box_right_side, box_center}.\\n        [optional] object1 needs to be rotated by {NUM: 0.0} degrees along x axis.\\n        [optional] object1 needs to be rotated by {NUM: 0.0} degrees along z axis.\\n        [optional] object2 needs to be rotated by {NUM: 0.0} degrees along x axis.\\n        [optional] object2 needs to be rotated by {NUM: 0.0} degrees along z axis.\\n        [optional] object1 needs to be lifted to a height of {NUM: 0.0}m at the end.\\n        [optional] object1 needs to be moved by {NUM: 0.0}m in x axis at the end.\\n        [optional] object1 needs to be moved by {NUM: 0.0}m in y axis at the end.\\n        [optional] object2 needs to be lifted to a height of {NUM: 0.0}m at the end.\\n        [optional] object2 needs to be moved by {NUM: 0.0}m in x axis at the end.\\n        [optional] object2 needs to be moved by {NUM: 0.0}m in y axis at the end.\\n        [optional] This {CHOICE: is, is not} the first plan for a new task.\\n        [end of plan]\\n\\n        Rules:\\n        1. If you see phrases like [NUM: default_value], replace the entire phrase with a numerical value.\\n        2. If you see phrases like {CHOICE: choice1, choice2, ...}, it means you should replace the entire phrase with one of the choices listed.\\n        3. If you see [optional], it means you only add that line if necessary for the task, otherwise remove that line.\\n        4. Do not invent new objects not listed here.\\n        5. I will tell you a behavior/skill/task that I want the manipulator to perform and you will provide the full plan, even if you may only need to change a few lines. Always start the description with [start of plan] and end it with [end of plan].\\n        6. You can assume that the robot is capable of doing anything, even for the most challenging task.\\n        7. Your plan should be as close to the provided template as possible. Do not include additional details.\\n        8. The robot is facing towards positive x-axis, positive y-axis is to the left of the robot, positive z-axis is upward.\\n        9. Objects are free to move around unless a command is given.\"}, {'role': 'user', 'content': 'We have a plan of a robot arm with gripper to manipulate objects and we want you to turn that into the corresponding reward specifying program with following functions:\\n\\n        ```\\n        def set_l2_distance_reward(name_obj_A, name_obj_B)\\n        ```\\n        where name_obj_A and name_obj_B are selected from [\\'gripper\\', \\'cube\\', \\'apple\\', \\'box_left_side\\', \\'box_right_side\\', \\'box_center\\'].\\n        This term sets a reward for minimizing l2_distance between name_obj_A and name_obj_B so they get closer to each other.\\n\\n        ```\\n        def set_obj_orientation_reward(name_obj, x_axis_rotation_radians, z_axis_rotation_radians)\\n        ```\\n        this term encourages the orientation of name_obj to be close to the target.\\n\\n        ```\\n        def execute_plan(duration=2)\\n        ```\\n        This function sends the parameters to the robot and execute the plan for `duration` seconds, default to be 2\\n\\n        ```\\n        def set_obj_position_reward(name_obj, x_offset, y_offset, z_height)\\n        ```\\n        this term encourages the position of name_obj to be close to the specified target position.\\n\\n        ```\\n        def reset_reward()\\n        ```\\n        This function resets the reward to default values.\\n\\n        This is the first plan for a new task.\\n\\n        Example answer code:\\n        ```\\n        import numpy as np\\n\\n        reset_reward() # This is a new task so reset reward; otherwise we don\\'t need it\\n        set_l2_distance_reward(\"gripper\", \"apple\")\\n        set_l2_distance_reward(\"apple\", \"box_center\")\\n        set_obj_orientation_reward(\"cube\", np.deg2rad(30), 0)\\n        set_obj_position_reward(\"bowl\", 0, 0, 1.0)\\n\\n        execute_plan(4)\\n        ```\\n\\n        Remember:\\n        1. Always format the code in code blocks. In your response execute_plan should be called exactly once at the end.\\n        2. Do not invent new functions or classes. The only allowed functions you can call are the ones listed above. Do not leave unimplemented code blocks in your response.\\n        3. The only allowed library is numpy. Do not import or use any other library.\\n        4. If you are not sure what value to use, just use your best judge. Do not use None for anything.\\n        5. Do not calculate the position or direction of any object (except for the ones provided above). Just use a number directly based on your best guess.\\n        6. You do not need to make the robot do extra things not mentioned in the plan such as stopping the robot.'}] is not of type 'object' - 'messages.0'.\n",
      "WARNING:root:Hit request rate limit; retrying...\n",
      "WARNING:root:OpenAIError: [{'role': 'system', 'content': \"We have a manipulator and we want you to help plan how it should move to perform tasks using the following template:\\n        [start of plan]\\n        [optional] To perform this task, the manipulator's gripper should move close to object1={CHOICE: cube, apple, box_left_side, box_right_side, box_center}.\\n        [optional] object1 should be close to object2={CHOICE: cube, apple, box_left_side, box_right_side, box_center}.\\n        [optional] object1 needs to be rotated by {NUM: 0.0} degrees along x axis.\\n        [optional] object1 needs to be rotated by {NUM: 0.0} degrees along z axis.\\n        [optional] object2 needs to be rotated by {NUM: 0.0} degrees along x axis.\\n        [optional] object2 needs to be rotated by {NUM: 0.0} degrees along z axis.\\n        [optional] object1 needs to be lifted to a height of {NUM: 0.0}m at the end.\\n        [optional] object1 needs to be moved by {NUM: 0.0}m in x axis at the end.\\n        [optional] object1 needs to be moved by {NUM: 0.0}m in y axis at the end.\\n        [optional] object2 needs to be lifted to a height of {NUM: 0.0}m at the end.\\n        [optional] object2 needs to be moved by {NUM: 0.0}m in x axis at the end.\\n        [optional] object2 needs to be moved by {NUM: 0.0}m in y axis at the end.\\n        [optional] This {CHOICE: is, is not} the first plan for a new task.\\n        [end of plan]\\n\\n        Rules:\\n        1. If you see phrases like [NUM: default_value], replace the entire phrase with a numerical value.\\n        2. If you see phrases like {CHOICE: choice1, choice2, ...}, it means you should replace the entire phrase with one of the choices listed.\\n        3. If you see [optional], it means you only add that line if necessary for the task, otherwise remove that line.\\n        4. Do not invent new objects not listed here.\\n        5. I will tell you a behavior/skill/task that I want the manipulator to perform and you will provide the full plan, even if you may only need to change a few lines. Always start the description with [start of plan] and end it with [end of plan].\\n        6. You can assume that the robot is capable of doing anything, even for the most challenging task.\\n        7. Your plan should be as close to the provided template as possible. Do not include additional details.\\n        8. The robot is facing towards positive x-axis, positive y-axis is to the left of the robot, positive z-axis is upward.\\n        9. Objects are free to move around unless a command is given.\"}, {'role': 'user', 'content': 'We have a plan of a robot arm with gripper to manipulate objects and we want you to turn that into the corresponding reward specifying program with following functions:\\n\\n        ```\\n        def set_l2_distance_reward(name_obj_A, name_obj_B)\\n        ```\\n        where name_obj_A and name_obj_B are selected from [\\'gripper\\', \\'cube\\', \\'apple\\', \\'box_left_side\\', \\'box_right_side\\', \\'box_center\\'].\\n        This term sets a reward for minimizing l2_distance between name_obj_A and name_obj_B so they get closer to each other.\\n\\n        ```\\n        def set_obj_orientation_reward(name_obj, x_axis_rotation_radians, z_axis_rotation_radians)\\n        ```\\n        this term encourages the orientation of name_obj to be close to the target.\\n\\n        ```\\n        def execute_plan(duration=2)\\n        ```\\n        This function sends the parameters to the robot and execute the plan for `duration` seconds, default to be 2\\n\\n        ```\\n        def set_obj_position_reward(name_obj, x_offset, y_offset, z_height)\\n        ```\\n        this term encourages the position of name_obj to be close to the specified target position.\\n\\n        ```\\n        def reset_reward()\\n        ```\\n        This function resets the reward to default values.\\n\\n        This is the first plan for a new task.\\n\\n        Example answer code:\\n        ```\\n        import numpy as np\\n\\n        reset_reward() # This is a new task so reset reward; otherwise we don\\'t need it\\n        set_l2_distance_reward(\"gripper\", \"apple\")\\n        set_l2_distance_reward(\"apple\", \"box_center\")\\n        set_obj_orientation_reward(\"cube\", np.deg2rad(30), 0)\\n        set_obj_position_reward(\"bowl\", 0, 0, 1.0)\\n\\n        execute_plan(4)\\n        ```\\n\\n        Remember:\\n        1. Always format the code in code blocks. In your response execute_plan should be called exactly once at the end.\\n        2. Do not invent new functions or classes. The only allowed functions you can call are the ones listed above. Do not leave unimplemented code blocks in your response.\\n        3. The only allowed library is numpy. Do not import or use any other library.\\n        4. If you are not sure what value to use, just use your best judge. Do not use None for anything.\\n        5. Do not calculate the position or direction of any object (except for the ones provided above). Just use a number directly based on your best guess.\\n        6. You do not need to make the robot do extra things not mentioned in the plan such as stopping the robot.'}] is not of type 'object' - 'messages.0'.\n",
      "WARNING:root:Hit request rate limit; retrying...\n",
      "WARNING:root:OpenAIError: [{'role': 'system', 'content': \"We have a manipulator and we want you to help plan how it should move to perform tasks using the following template:\\n        [start of plan]\\n        [optional] To perform this task, the manipulator's gripper should move close to object1={CHOICE: cube, apple, box_left_side, box_right_side, box_center}.\\n        [optional] object1 should be close to object2={CHOICE: cube, apple, box_left_side, box_right_side, box_center}.\\n        [optional] object1 needs to be rotated by {NUM: 0.0} degrees along x axis.\\n        [optional] object1 needs to be rotated by {NUM: 0.0} degrees along z axis.\\n        [optional] object2 needs to be rotated by {NUM: 0.0} degrees along x axis.\\n        [optional] object2 needs to be rotated by {NUM: 0.0} degrees along z axis.\\n        [optional] object1 needs to be lifted to a height of {NUM: 0.0}m at the end.\\n        [optional] object1 needs to be moved by {NUM: 0.0}m in x axis at the end.\\n        [optional] object1 needs to be moved by {NUM: 0.0}m in y axis at the end.\\n        [optional] object2 needs to be lifted to a height of {NUM: 0.0}m at the end.\\n        [optional] object2 needs to be moved by {NUM: 0.0}m in x axis at the end.\\n        [optional] object2 needs to be moved by {NUM: 0.0}m in y axis at the end.\\n        [optional] This {CHOICE: is, is not} the first plan for a new task.\\n        [end of plan]\\n\\n        Rules:\\n        1. If you see phrases like [NUM: default_value], replace the entire phrase with a numerical value.\\n        2. If you see phrases like {CHOICE: choice1, choice2, ...}, it means you should replace the entire phrase with one of the choices listed.\\n        3. If you see [optional], it means you only add that line if necessary for the task, otherwise remove that line.\\n        4. Do not invent new objects not listed here.\\n        5. I will tell you a behavior/skill/task that I want the manipulator to perform and you will provide the full plan, even if you may only need to change a few lines. Always start the description with [start of plan] and end it with [end of plan].\\n        6. You can assume that the robot is capable of doing anything, even for the most challenging task.\\n        7. Your plan should be as close to the provided template as possible. Do not include additional details.\\n        8. The robot is facing towards positive x-axis, positive y-axis is to the left of the robot, positive z-axis is upward.\\n        9. Objects are free to move around unless a command is given.\"}, {'role': 'user', 'content': 'We have a plan of a robot arm with gripper to manipulate objects and we want you to turn that into the corresponding reward specifying program with following functions:\\n\\n        ```\\n        def set_l2_distance_reward(name_obj_A, name_obj_B)\\n        ```\\n        where name_obj_A and name_obj_B are selected from [\\'gripper\\', \\'cube\\', \\'apple\\', \\'box_left_side\\', \\'box_right_side\\', \\'box_center\\'].\\n        This term sets a reward for minimizing l2_distance between name_obj_A and name_obj_B so they get closer to each other.\\n\\n        ```\\n        def set_obj_orientation_reward(name_obj, x_axis_rotation_radians, z_axis_rotation_radians)\\n        ```\\n        this term encourages the orientation of name_obj to be close to the target.\\n\\n        ```\\n        def execute_plan(duration=2)\\n        ```\\n        This function sends the parameters to the robot and execute the plan for `duration` seconds, default to be 2\\n\\n        ```\\n        def set_obj_position_reward(name_obj, x_offset, y_offset, z_height)\\n        ```\\n        this term encourages the position of name_obj to be close to the specified target position.\\n\\n        ```\\n        def reset_reward()\\n        ```\\n        This function resets the reward to default values.\\n\\n        This is the first plan for a new task.\\n\\n        Example answer code:\\n        ```\\n        import numpy as np\\n\\n        reset_reward() # This is a new task so reset reward; otherwise we don\\'t need it\\n        set_l2_distance_reward(\"gripper\", \"apple\")\\n        set_l2_distance_reward(\"apple\", \"box_center\")\\n        set_obj_orientation_reward(\"cube\", np.deg2rad(30), 0)\\n        set_obj_position_reward(\"bowl\", 0, 0, 1.0)\\n\\n        execute_plan(4)\\n        ```\\n\\n        Remember:\\n        1. Always format the code in code blocks. In your response execute_plan should be called exactly once at the end.\\n        2. Do not invent new functions or classes. The only allowed functions you can call are the ones listed above. Do not leave unimplemented code blocks in your response.\\n        3. The only allowed library is numpy. Do not import or use any other library.\\n        4. If you are not sure what value to use, just use your best judge. Do not use None for anything.\\n        5. Do not calculate the position or direction of any object (except for the ones provided above). Just use a number directly based on your best guess.\\n        6. You do not need to make the robot do extra things not mentioned in the plan such as stopping the robot.'}] is not of type 'object' - 'messages.0'.\n",
      "WARNING:root:Hit request rate limit; retrying...\n",
      "WARNING:root:OpenAIError: [{'role': 'system', 'content': \"We have a manipulator and we want you to help plan how it should move to perform tasks using the following template:\\n        [start of plan]\\n        [optional] To perform this task, the manipulator's gripper should move close to object1={CHOICE: cube, apple, box_left_side, box_right_side, box_center}.\\n        [optional] object1 should be close to object2={CHOICE: cube, apple, box_left_side, box_right_side, box_center}.\\n        [optional] object1 needs to be rotated by {NUM: 0.0} degrees along x axis.\\n        [optional] object1 needs to be rotated by {NUM: 0.0} degrees along z axis.\\n        [optional] object2 needs to be rotated by {NUM: 0.0} degrees along x axis.\\n        [optional] object2 needs to be rotated by {NUM: 0.0} degrees along z axis.\\n        [optional] object1 needs to be lifted to a height of {NUM: 0.0}m at the end.\\n        [optional] object1 needs to be moved by {NUM: 0.0}m in x axis at the end.\\n        [optional] object1 needs to be moved by {NUM: 0.0}m in y axis at the end.\\n        [optional] object2 needs to be lifted to a height of {NUM: 0.0}m at the end.\\n        [optional] object2 needs to be moved by {NUM: 0.0}m in x axis at the end.\\n        [optional] object2 needs to be moved by {NUM: 0.0}m in y axis at the end.\\n        [optional] This {CHOICE: is, is not} the first plan for a new task.\\n        [end of plan]\\n\\n        Rules:\\n        1. If you see phrases like [NUM: default_value], replace the entire phrase with a numerical value.\\n        2. If you see phrases like {CHOICE: choice1, choice2, ...}, it means you should replace the entire phrase with one of the choices listed.\\n        3. If you see [optional], it means you only add that line if necessary for the task, otherwise remove that line.\\n        4. Do not invent new objects not listed here.\\n        5. I will tell you a behavior/skill/task that I want the manipulator to perform and you will provide the full plan, even if you may only need to change a few lines. Always start the description with [start of plan] and end it with [end of plan].\\n        6. You can assume that the robot is capable of doing anything, even for the most challenging task.\\n        7. Your plan should be as close to the provided template as possible. Do not include additional details.\\n        8. The robot is facing towards positive x-axis, positive y-axis is to the left of the robot, positive z-axis is upward.\\n        9. Objects are free to move around unless a command is given.\"}, {'role': 'user', 'content': 'We have a plan of a robot arm with gripper to manipulate objects and we want you to turn that into the corresponding reward specifying program with following functions:\\n\\n        ```\\n        def set_l2_distance_reward(name_obj_A, name_obj_B)\\n        ```\\n        where name_obj_A and name_obj_B are selected from [\\'gripper\\', \\'cube\\', \\'apple\\', \\'box_left_side\\', \\'box_right_side\\', \\'box_center\\'].\\n        This term sets a reward for minimizing l2_distance between name_obj_A and name_obj_B so they get closer to each other.\\n\\n        ```\\n        def set_obj_orientation_reward(name_obj, x_axis_rotation_radians, z_axis_rotation_radians)\\n        ```\\n        this term encourages the orientation of name_obj to be close to the target.\\n\\n        ```\\n        def execute_plan(duration=2)\\n        ```\\n        This function sends the parameters to the robot and execute the plan for `duration` seconds, default to be 2\\n\\n        ```\\n        def set_obj_position_reward(name_obj, x_offset, y_offset, z_height)\\n        ```\\n        this term encourages the position of name_obj to be close to the specified target position.\\n\\n        ```\\n        def reset_reward()\\n        ```\\n        This function resets the reward to default values.\\n\\n        This is the first plan for a new task.\\n\\n        Example answer code:\\n        ```\\n        import numpy as np\\n\\n        reset_reward() # This is a new task so reset reward; otherwise we don\\'t need it\\n        set_l2_distance_reward(\"gripper\", \"apple\")\\n        set_l2_distance_reward(\"apple\", \"box_center\")\\n        set_obj_orientation_reward(\"cube\", np.deg2rad(30), 0)\\n        set_obj_position_reward(\"bowl\", 0, 0, 1.0)\\n\\n        execute_plan(4)\\n        ```\\n\\n        Remember:\\n        1. Always format the code in code blocks. In your response execute_plan should be called exactly once at the end.\\n        2. Do not invent new functions or classes. The only allowed functions you can call are the ones listed above. Do not leave unimplemented code blocks in your response.\\n        3. The only allowed library is numpy. Do not import or use any other library.\\n        4. If you are not sure what value to use, just use your best judge. Do not use None for anything.\\n        5. Do not calculate the position or direction of any object (except for the ones provided above). Just use a number directly based on your best guess.\\n        6. You do not need to make the robot do extra things not mentioned in the plan such as stopping the robot.'}] is not of type 'object' - 'messages.0'.\n",
      "WARNING:root:Hit request rate limit; retrying...\n",
      "prompt_batches:   0%|          | 0/1 [00:15<?, ?it/s]\n"
     ]
    },
    {
     "ename": "KeyboardInterrupt",
     "evalue": "",
     "output_type": "error",
     "traceback": [
      "\u001b[0;31m---------------------------------------------------------------------------\u001b[0m",
      "\u001b[0;31mInvalidRequestError\u001b[0m                       Traceback (most recent call last)",
      "File \u001b[0;32m~/codebase/alpaca4robotics/utils.py:199\u001b[0m, in \u001b[0;36mopenai_chatcompletion\u001b[0;34m(prompts, decoding_args, model_name, sleep_time, batch_size, max_instances, max_batches, return_text, **decoding_kwargs)\u001b[0m\n\u001b[1;32m    194\u001b[0m shared_kwargs \u001b[39m=\u001b[39m \u001b[39mdict\u001b[39m(\n\u001b[1;32m    195\u001b[0m     model\u001b[39m=\u001b[39mmodel_name,\n\u001b[1;32m    196\u001b[0m     \u001b[39m*\u001b[39m\u001b[39m*\u001b[39mbatch_decoding_args\u001b[39m.\u001b[39m\u001b[39m__dict__\u001b[39m,\n\u001b[1;32m    197\u001b[0m     \u001b[39m*\u001b[39m\u001b[39m*\u001b[39mdecoding_kwargs,\n\u001b[1;32m    198\u001b[0m )\n\u001b[0;32m--> 199\u001b[0m completion_batch \u001b[39m=\u001b[39m openai\u001b[39m.\u001b[39;49mChatCompletion\u001b[39m.\u001b[39;49mcreate(\n\u001b[1;32m    200\u001b[0m     messages\u001b[39m=\u001b[39;49mprompt_batch, \u001b[39m*\u001b[39;49m\u001b[39m*\u001b[39;49mshared_kwargs)\n\u001b[1;32m    201\u001b[0m choices \u001b[39m=\u001b[39m completion_batch\u001b[39m.\u001b[39mchoices\n",
      "File \u001b[0;32m~/anaconda3/envs/alpaca/lib/python3.10/site-packages/openai/api_resources/chat_completion.py:25\u001b[0m, in \u001b[0;36mChatCompletion.create\u001b[0;34m(cls, *args, **kwargs)\u001b[0m\n\u001b[1;32m     24\u001b[0m \u001b[39mtry\u001b[39;00m:\n\u001b[0;32m---> 25\u001b[0m     \u001b[39mreturn\u001b[39;00m \u001b[39msuper\u001b[39;49m()\u001b[39m.\u001b[39;49mcreate(\u001b[39m*\u001b[39;49margs, \u001b[39m*\u001b[39;49m\u001b[39m*\u001b[39;49mkwargs)\n\u001b[1;32m     26\u001b[0m \u001b[39mexcept\u001b[39;00m TryAgain \u001b[39mas\u001b[39;00m e:\n",
      "File \u001b[0;32m~/anaconda3/envs/alpaca/lib/python3.10/site-packages/openai/api_resources/abstract/engine_api_resource.py:153\u001b[0m, in \u001b[0;36mEngineAPIResource.create\u001b[0;34m(cls, api_key, api_base, api_type, request_id, api_version, organization, **params)\u001b[0m\n\u001b[1;32m    138\u001b[0m (\n\u001b[1;32m    139\u001b[0m     deployment_id,\n\u001b[1;32m    140\u001b[0m     engine,\n\u001b[0;32m   (...)\u001b[0m\n\u001b[1;32m    150\u001b[0m     api_key, api_base, api_type, api_version, organization, \u001b[39m*\u001b[39m\u001b[39m*\u001b[39mparams\n\u001b[1;32m    151\u001b[0m )\n\u001b[0;32m--> 153\u001b[0m response, _, api_key \u001b[39m=\u001b[39m requestor\u001b[39m.\u001b[39;49mrequest(\n\u001b[1;32m    154\u001b[0m     \u001b[39m\"\u001b[39;49m\u001b[39mpost\u001b[39;49m\u001b[39m\"\u001b[39;49m,\n\u001b[1;32m    155\u001b[0m     url,\n\u001b[1;32m    156\u001b[0m     params\u001b[39m=\u001b[39;49mparams,\n\u001b[1;32m    157\u001b[0m     headers\u001b[39m=\u001b[39;49mheaders,\n\u001b[1;32m    158\u001b[0m     stream\u001b[39m=\u001b[39;49mstream,\n\u001b[1;32m    159\u001b[0m     request_id\u001b[39m=\u001b[39;49mrequest_id,\n\u001b[1;32m    160\u001b[0m     request_timeout\u001b[39m=\u001b[39;49mrequest_timeout,\n\u001b[1;32m    161\u001b[0m )\n\u001b[1;32m    163\u001b[0m \u001b[39mif\u001b[39;00m stream:\n\u001b[1;32m    164\u001b[0m     \u001b[39m# must be an iterator\u001b[39;00m\n",
      "File \u001b[0;32m~/anaconda3/envs/alpaca/lib/python3.10/site-packages/openai/api_requestor.py:298\u001b[0m, in \u001b[0;36mAPIRequestor.request\u001b[0;34m(self, method, url, params, headers, files, stream, request_id, request_timeout)\u001b[0m\n\u001b[1;32m    288\u001b[0m result \u001b[39m=\u001b[39m \u001b[39mself\u001b[39m\u001b[39m.\u001b[39mrequest_raw(\n\u001b[1;32m    289\u001b[0m     method\u001b[39m.\u001b[39mlower(),\n\u001b[1;32m    290\u001b[0m     url,\n\u001b[0;32m   (...)\u001b[0m\n\u001b[1;32m    296\u001b[0m     request_timeout\u001b[39m=\u001b[39mrequest_timeout,\n\u001b[1;32m    297\u001b[0m )\n\u001b[0;32m--> 298\u001b[0m resp, got_stream \u001b[39m=\u001b[39m \u001b[39mself\u001b[39;49m\u001b[39m.\u001b[39;49m_interpret_response(result, stream)\n\u001b[1;32m    299\u001b[0m \u001b[39mreturn\u001b[39;00m resp, got_stream, \u001b[39mself\u001b[39m\u001b[39m.\u001b[39mapi_key\n",
      "File \u001b[0;32m~/anaconda3/envs/alpaca/lib/python3.10/site-packages/openai/api_requestor.py:700\u001b[0m, in \u001b[0;36mAPIRequestor._interpret_response\u001b[0;34m(self, result, stream)\u001b[0m\n\u001b[1;32m    698\u001b[0m \u001b[39melse\u001b[39;00m:\n\u001b[1;32m    699\u001b[0m     \u001b[39mreturn\u001b[39;00m (\n\u001b[0;32m--> 700\u001b[0m         \u001b[39mself\u001b[39;49m\u001b[39m.\u001b[39;49m_interpret_response_line(\n\u001b[1;32m    701\u001b[0m             result\u001b[39m.\u001b[39;49mcontent\u001b[39m.\u001b[39;49mdecode(\u001b[39m\"\u001b[39;49m\u001b[39mutf-8\u001b[39;49m\u001b[39m\"\u001b[39;49m),\n\u001b[1;32m    702\u001b[0m             result\u001b[39m.\u001b[39;49mstatus_code,\n\u001b[1;32m    703\u001b[0m             result\u001b[39m.\u001b[39;49mheaders,\n\u001b[1;32m    704\u001b[0m             stream\u001b[39m=\u001b[39;49m\u001b[39mFalse\u001b[39;49;00m,\n\u001b[1;32m    705\u001b[0m         ),\n\u001b[1;32m    706\u001b[0m         \u001b[39mFalse\u001b[39;00m,\n\u001b[1;32m    707\u001b[0m     )\n",
      "File \u001b[0;32m~/anaconda3/envs/alpaca/lib/python3.10/site-packages/openai/api_requestor.py:763\u001b[0m, in \u001b[0;36mAPIRequestor._interpret_response_line\u001b[0;34m(self, rbody, rcode, rheaders, stream)\u001b[0m\n\u001b[1;32m    762\u001b[0m \u001b[39mif\u001b[39;00m stream_error \u001b[39mor\u001b[39;00m \u001b[39mnot\u001b[39;00m \u001b[39m200\u001b[39m \u001b[39m<\u001b[39m\u001b[39m=\u001b[39m rcode \u001b[39m<\u001b[39m \u001b[39m300\u001b[39m:\n\u001b[0;32m--> 763\u001b[0m     \u001b[39mraise\u001b[39;00m \u001b[39mself\u001b[39m\u001b[39m.\u001b[39mhandle_error_response(\n\u001b[1;32m    764\u001b[0m         rbody, rcode, resp\u001b[39m.\u001b[39mdata, rheaders, stream_error\u001b[39m=\u001b[39mstream_error\n\u001b[1;32m    765\u001b[0m     )\n\u001b[1;32m    766\u001b[0m \u001b[39mreturn\u001b[39;00m resp\n",
      "\u001b[0;31mInvalidRequestError\u001b[0m: [{'role': 'system', 'content': \"We have a manipulator and we want you to help plan how it should move to perform tasks using the following template:\\n        [start of plan]\\n        [optional] To perform this task, the manipulator's gripper should move close to object1={CHOICE: cube, apple, box_left_side, box_right_side, box_center}.\\n        [optional] object1 should be close to object2={CHOICE: cube, apple, box_left_side, box_right_side, box_center}.\\n        [optional] object1 needs to be rotated by {NUM: 0.0} degrees along x axis.\\n        [optional] object1 needs to be rotated by {NUM: 0.0} degrees along z axis.\\n        [optional] object2 needs to be rotated by {NUM: 0.0} degrees along x axis.\\n        [optional] object2 needs to be rotated by {NUM: 0.0} degrees along z axis.\\n        [optional] object1 needs to be lifted to a height of {NUM: 0.0}m at the end.\\n        [optional] object1 needs to be moved by {NUM: 0.0}m in x axis at the end.\\n        [optional] object1 needs to be moved by {NUM: 0.0}m in y axis at the end.\\n        [optional] object2 needs to be lifted to a height of {NUM: 0.0}m at the end.\\n        [optional] object2 needs to be moved by {NUM: 0.0}m in x axis at the end.\\n        [optional] object2 needs to be moved by {NUM: 0.0}m in y axis at the end.\\n        [optional] This {CHOICE: is, is not} the first plan for a new task.\\n        [end of plan]\\n\\n        Rules:\\n        1. If you see phrases like [NUM: default_value], replace the entire phrase with a numerical value.\\n        2. If you see phrases like {CHOICE: choice1, choice2, ...}, it means you should replace the entire phrase with one of the choices listed.\\n        3. If you see [optional], it means you only add that line if necessary for the task, otherwise remove that line.\\n        4. Do not invent new objects not listed here.\\n        5. I will tell you a behavior/skill/task that I want the manipulator to perform and you will provide the full plan, even if you may only need to change a few lines. Always start the description with [start of plan] and end it with [end of plan].\\n        6. You can assume that the robot is capable of doing anything, even for the most challenging task.\\n        7. Your plan should be as close to the provided template as possible. Do not include additional details.\\n        8. The robot is facing towards positive x-axis, positive y-axis is to the left of the robot, positive z-axis is upward.\\n        9. Objects are free to move around unless a command is given.\"}, {'role': 'user', 'content': 'We have a plan of a robot arm with gripper to manipulate objects and we want you to turn that into the corresponding reward specifying program with following functions:\\n\\n        ```\\n        def set_l2_distance_reward(name_obj_A, name_obj_B)\\n        ```\\n        where name_obj_A and name_obj_B are selected from [\\'gripper\\', \\'cube\\', \\'apple\\', \\'box_left_side\\', \\'box_right_side\\', \\'box_center\\'].\\n        This term sets a reward for minimizing l2_distance between name_obj_A and name_obj_B so they get closer to each other.\\n\\n        ```\\n        def set_obj_orientation_reward(name_obj, x_axis_rotation_radians, z_axis_rotation_radians)\\n        ```\\n        this term encourages the orientation of name_obj to be close to the target.\\n\\n        ```\\n        def execute_plan(duration=2)\\n        ```\\n        This function sends the parameters to the robot and execute the plan for `duration` seconds, default to be 2\\n\\n        ```\\n        def set_obj_position_reward(name_obj, x_offset, y_offset, z_height)\\n        ```\\n        this term encourages the position of name_obj to be close to the specified target position.\\n\\n        ```\\n        def reset_reward()\\n        ```\\n        This function resets the reward to default values.\\n\\n        This is the first plan for a new task.\\n\\n        Example answer code:\\n        ```\\n        import numpy as np\\n\\n        reset_reward() # This is a new task so reset reward; otherwise we don\\'t need it\\n        set_l2_distance_reward(\"gripper\", \"apple\")\\n        set_l2_distance_reward(\"apple\", \"box_center\")\\n        set_obj_orientation_reward(\"cube\", np.deg2rad(30), 0)\\n        set_obj_position_reward(\"bowl\", 0, 0, 1.0)\\n\\n        execute_plan(4)\\n        ```\\n\\n        Remember:\\n        1. Always format the code in code blocks. In your response execute_plan should be called exactly once at the end.\\n        2. Do not invent new functions or classes. The only allowed functions you can call are the ones listed above. Do not leave unimplemented code blocks in your response.\\n        3. The only allowed library is numpy. Do not import or use any other library.\\n        4. If you are not sure what value to use, just use your best judge. Do not use None for anything.\\n        5. Do not calculate the position or direction of any object (except for the ones provided above). Just use a number directly based on your best guess.\\n        6. You do not need to make the robot do extra things not mentioned in the plan such as stopping the robot.'}] is not of type 'object' - 'messages.0'",
      "\nDuring handling of the above exception, another exception occurred:\n",
      "\u001b[0;31mKeyboardInterrupt\u001b[0m                         Traceback (most recent call last)",
      "Cell \u001b[0;32mIn[17], line 39\u001b[0m\n\u001b[1;32m     31\u001b[0m decoding_args \u001b[39m=\u001b[39m utils\u001b[39m.\u001b[39mOpenAIDecodingArguments(\n\u001b[1;32m     32\u001b[0m     temperature\u001b[39m=\u001b[39mtemperature,\n\u001b[1;32m     33\u001b[0m     n\u001b[39m=\u001b[39m\u001b[39m1\u001b[39m,\n\u001b[0;32m   (...)\u001b[0m\n\u001b[1;32m     36\u001b[0m     stop\u001b[39m=\u001b[39m[\u001b[39m\"\u001b[39m\u001b[39m\\n\u001b[39;00m\u001b[39m20\u001b[39m\u001b[39m\"\u001b[39m, \u001b[39m\"\u001b[39m\u001b[39m20.\u001b[39m\u001b[39m\"\u001b[39m, \u001b[39m\"\u001b[39m\u001b[39m20.\u001b[39m\u001b[39m\"\u001b[39m],\n\u001b[1;32m     37\u001b[0m )\n\u001b[1;32m     38\u001b[0m request_start \u001b[39m=\u001b[39m time\u001b[39m.\u001b[39mtime()\n\u001b[0;32m---> 39\u001b[0m results \u001b[39m=\u001b[39m utils\u001b[39m.\u001b[39;49mopenai_chatcompletion(\n\u001b[1;32m     40\u001b[0m     prompts\u001b[39m=\u001b[39;49mbatch_inputs,\n\u001b[1;32m     41\u001b[0m     model_name\u001b[39m=\u001b[39;49mmodel_name,\n\u001b[1;32m     42\u001b[0m     batch_size\u001b[39m=\u001b[39;49mrequest_batch_size,\n\u001b[1;32m     43\u001b[0m     decoding_args\u001b[39m=\u001b[39;49mdecoding_args,\n\u001b[1;32m     44\u001b[0m     logit_bias\u001b[39m=\u001b[39;49m{\u001b[39m\"\u001b[39;49m\u001b[39m50256\u001b[39;49m\u001b[39m\"\u001b[39;49m: \u001b[39m-\u001b[39;49m\u001b[39m100\u001b[39;49m},  \u001b[39m# prevent the <|endoftext|> token from being generated\u001b[39;49;00m\n\u001b[1;32m     45\u001b[0m )\n\u001b[1;32m     46\u001b[0m request_duration \u001b[39m=\u001b[39m time\u001b[39m.\u001b[39mtime() \u001b[39m-\u001b[39m request_start\n\u001b[1;32m     47\u001b[0m results\n",
      "File \u001b[0;32m~/codebase/alpaca4robotics/utils.py:214\u001b[0m, in \u001b[0;36mopenai_chatcompletion\u001b[0;34m(prompts, decoding_args, model_name, sleep_time, batch_size, max_instances, max_batches, return_text, **decoding_kwargs)\u001b[0m\n\u001b[1;32m    212\u001b[0m             \u001b[39melse\u001b[39;00m:\n\u001b[1;32m    213\u001b[0m                 logging\u001b[39m.\u001b[39mwarning(\u001b[39m\"\u001b[39m\u001b[39mHit request rate limit; retrying...\u001b[39m\u001b[39m\"\u001b[39m)\n\u001b[0;32m--> 214\u001b[0m                 time\u001b[39m.\u001b[39;49msleep(sleep_time)  \u001b[39m# Annoying rate limit on requests.\u001b[39;00m\n\u001b[1;32m    216\u001b[0m \u001b[39mif\u001b[39;00m return_text:\n\u001b[1;32m    217\u001b[0m     completions \u001b[39m=\u001b[39m [completion\u001b[39m.\u001b[39mtext \u001b[39mfor\u001b[39;00m completion \u001b[39min\u001b[39;00m completions]\n",
      "\u001b[0;31mKeyboardInterrupt\u001b[0m: "
     ]
    }
   ],
   "source": [
    "output_dir = \"gpt4_chat_completion\"\n",
    "num_instructions_to_generate = 1\n",
    "num_prompt_instructions = 1\n",
    "request_batch_size = 1\n",
    "temperature = 1.0\n",
    "top_p = 1.0\n",
    "num_cpus = 8\n",
    "model_name = \"gpt-3.5-turbo\"\n",
    "\n",
    "os.makedirs(output_dir, exist_ok=True)\n",
    "\n",
    "request_idx = 0\n",
    "scorer = rouge_scorer.RougeScorer([\"rougeL\"], use_stemmer=False)\n",
    "\n",
    "progress_bar = tqdm.tqdm(total=num_instructions_to_generate)\n",
    "\n",
    "# first we tokenize all the seed instructions and generated machine instructions\n",
    "all_instructions = [d[\"instruction\"] for d in seed_instruction_data]\n",
    "all_instruction_tokens = [scorer._tokenizer.tokenize(inst) for inst in all_instructions]\n",
    "machine_instruction_data = []\n",
    "\n",
    "batch_inputs = []\n",
    "\n",
    "    # only sampling from the seed tasks\n",
    "prompt_instructions = random.sample(seed_instruction_data, num_prompt_instructions)\n",
    "prompt = encode_prompt(prompt_instructions)\n",
    "\n",
    "batch_inputs.append(prompt_manipulation)\n",
    "\n",
    "\n",
    "decoding_args = utils.OpenAIDecodingArguments(\n",
    "    temperature=temperature,\n",
    "    n=1,\n",
    "    max_tokens=512,  # hard-code to maximize the length. the requests will be automatically adjusted\n",
    "    top_p=top_p,\n",
    "    stop=[\"\\n20\", \"20.\", \"20.\"],\n",
    ")\n",
    "request_start = time.time()\n",
    "results = utils.openai_chatcompletion(\n",
    "    prompts=batch_inputs,\n",
    "    model_name=model_name,\n",
    "    batch_size=request_batch_size,\n",
    "    decoding_args=decoding_args,\n",
    "    logit_bias={\"50256\": -100},  # prevent the <|endoftext|> token from being generated\n",
    ")\n",
    "request_duration = time.time() - request_start\n",
    "results\n",
    "    # process_start = time.time()\n",
    "    # instruction_data = []\n",
    "    # for result in results:\n",
    "    #     new_instructions = post_process_gpt3_response(num_prompt_instructions, result)\n",
    "    #     instruction_data += new_instructions\n",
    "\n",
    "    # total = len(instruction_data)\n",
    "    # keep = 0\n",
    "    # for instruction_data_entry in instruction_data:\n",
    "    #     # computing similarity with the pre-tokenzied instructions\n",
    "    #     new_instruction_tokens = scorer._tokenizer.tokenize(instruction_data_entry[\"instruction\"])\n",
    "    #     with Pool(num_cpus) as p:\n",
    "    #         rouge_scores = p.map(\n",
    "    #             partial(rouge_scorer._score_lcs, new_instruction_tokens),\n",
    "    #             all_instruction_tokens,\n",
    "    #         )\n",
    "    #     rouge_scores = [score.fmeasure for score in rouge_scores]\n",
    "    #     most_similar_instructions = {\n",
    "    #         all_instructions[i]: rouge_scores[i] for i in np.argsort(rouge_scores)[-10:][::-1]\n",
    "    #     }\n",
    "    #     if max(rouge_scores) > 0.7:\n",
    "    #         continue\n",
    "    #     else:\n",
    "    #         keep += 1\n",
    "    #     instruction_data_entry[\"most_similar_instructions\"] = most_similar_instructions\n",
    "    #     instruction_data_entry[\"avg_similarity_score\"] = float(np.mean(rouge_scores))\n",
    "    #     machine_instruction_data.append(instruction_data_entry)\n",
    "    #     all_instructions.append(instruction_data_entry[\"instruction\"])\n",
    "    #     all_instruction_tokens.append(new_instruction_tokens)\n",
    "    #     progress_bar.update(1)\n",
    "    # process_duration = time.time() - process_start\n",
    "    # print(f\"Request {request_idx} took {request_duration:.2f}s, processing took {process_duration:.2f}s\")\n",
    "    # print(f\"Generated {total} instructions, kept {keep} instructions\")\n",
    "    # utils.jdump(machine_instruction_data, os.path.join(output_dir, \"regen.json\"))"
   ]
  },
  {
   "cell_type": "code",
   "execution_count": null,
   "metadata": {},
   "outputs": [],
   "source": []
  }
 ],
 "metadata": {
  "kernelspec": {
   "display_name": "Python 3",
   "language": "python",
   "name": "python3"
  },
  "language_info": {
   "codemirror_mode": {
    "name": "ipython",
    "version": 3
   },
   "file_extension": ".py",
   "mimetype": "text/x-python",
   "name": "python",
   "nbconvert_exporter": "python",
   "pygments_lexer": "ipython3",
   "version": "3.10.11"
  },
  "orig_nbformat": 4
 },
 "nbformat": 4,
 "nbformat_minor": 2
}
